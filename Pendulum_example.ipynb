{
 "cells": [
  {
   "cell_type": "markdown",
   "metadata": {},
   "source": [
    "## Switching density networks for pendulum controller identification\n",
    "\n",
    "This notebook provides a minimum working example of an SDN. Here we consider the task of controller identification for an inverted pendulum. For ease of comparison, we train on the full action space for a known hybrid controller.\n",
    "\n",
    "Here, we seek to identify the 3 controllers producing actions $u$ that balance a pendulum given state space measurements (angle $\\theta$, velocity $\\dot{\\theta}$):\n",
    "\n",
    "Pump:\n",
    "$$ u = K_1\\dot{\\theta} $$\n",
    "Spin:\n",
    "$$ u = -K_2\\dot{\\theta} $$\n",
    "Balance\n",
    "$$ u = +K_3\\theta + K_4\\dot{\\theta} $$\n",
    "\n",
    "We train an SDN to predict the gains for each controller region. For simplicity, we assume that measurement noise is known, and do not predict this. "
   ]
  },
  {
   "cell_type": "code",
   "execution_count": 1,
   "metadata": {},
   "outputs": [],
   "source": [
    "import os\n",
    "os.environ[\"CUDA_DEVICE_ORDER\"]=\"PCI_BUS_ID\"\n",
    "os.environ[\"CUDA_VISIBLE_DEVICES\"]=\"0\""
   ]
  },
  {
   "cell_type": "code",
   "execution_count": 2,
   "metadata": {
    "scrolled": true
   },
   "outputs": [
    {
     "name": "stderr",
     "output_type": "stream",
     "text": [
      "Using TensorFlow backend.\n"
     ]
    }
   ],
   "source": [
    "import numpy as np\n",
    "from numpy.random import seed\n",
    "seed(150)\n",
    "from matplotlib import pyplot as plt\n",
    "%matplotlib inline\n",
    "import glob\n",
    "import cv2\n",
    "from IPython import display\n",
    "from scipy.stats import multivariate_normal\n",
    "import tensorflow as tf\n",
    "from tensorflow_probability import distributions as tfd\n",
    "\n",
    "import numpy as np\n",
    "from keras.models import Model\n",
    "import keras.backend as K\n",
    "from keras.layers import Input, Lambda, Dense, Concatenate\n",
    "from keras.layers import Flatten, Dropout, Conv2D, Conv2DTranspose \n",
    "from keras.layers import Reshape, Softmax, BatchNormalization\n",
    "from keras.callbacks import TensorBoard, Callback\n",
    "from keras.optimizers import SGD, Adam\n",
    "from keras.utils import Sequence\n",
    "import time\n",
    "import gym"
   ]
  },
  {
   "cell_type": "code",
   "execution_count": 3,
   "metadata": {},
   "outputs": [],
   "source": [
    "class SDN:\n",
    "    \n",
    "    def __init__(self,nk=3,d=2):\n",
    "\n",
    "        self.nk = nk\n",
    "        self.d = d\n",
    "        \n",
    "        # Define model\n",
    "        state = Input(shape=(2,))\n",
    "        x = Dense(16,activation='relu')(state)\n",
    "        x = Dense(16,activation='relu')(x)\n",
    "        x = Dense(16,activation='relu')(x)\n",
    "        x = Dense(self.nk,activation='linear')(x)\n",
    "        tau = Input(shape=(1,))\n",
    "        \n",
    "        goal_pi = Lambda(self.gumbel_softmax)([x,tau])\n",
    "        goal_mu = Dense(self.d,activation='linear')(goal_pi)\n",
    "        \n",
    "        goal_out = Concatenate()([goal_mu, goal_pi])\n",
    "        \n",
    "        self.goal_pred = Model([state,tau],[goal_out,goal_pi])\n",
    "        \n",
    "        class_in = Input(shape=(self.nk,))\n",
    "        self.class_pred = Model(class_in,self.predict_mu(class_in))\n",
    "        \n",
    "        goal_mu = self.class_pred(goal_pi)\n",
    "        \n",
    "        goal_out = Concatenate()([goal_mu, goal_pi])\n",
    "        \n",
    "        self.goal_pred = Model([state,tau],[goal_out,goal_pi])\n",
    "        \n",
    "        opt = Adam(lr=5e-3) # learning rate is high, should be much lower for harder problems\n",
    "        \n",
    "        self.goal_pred.compile(loss=[self.ga_loss(state),self.ce_loss], metrics=[self.temp_monitor_c(self.goal_pred.inputs[1])],optimizer=opt)\n",
    "        \n",
    "    def predict_mu(self,x):\n",
    "        return Dense(self.d,activation='linear')(x)\n",
    "\n",
    "    # Temperature monitor\n",
    "    def temp_monitor_c(self,temp):\n",
    "        def temp_monitor(y_true,y_pred):\n",
    "            return tf.reduce_mean(temp)\n",
    "        return temp_monitor\n",
    "\n",
    "    # Gumbel Softmax\n",
    "    def sample_gumbel(self,shape, eps=1e-20): \n",
    "\n",
    "        U = tf.random_uniform(shape,minval=0,maxval=1)\n",
    "        return -tf.log(-tf.log(U + eps) + eps)\n",
    "\n",
    "    def gumbel_softmax_sample(self, logits, temperature): \n",
    "\n",
    "        y = logits + self.sample_gumbel(tf.shape(logits))\n",
    "        return tf.nn.softmax( y / temperature)\n",
    "\n",
    "    def gumbel_softmax(self,l_t,hard=False):\n",
    "        logits = l_t[0]\n",
    "        temperature = l_t[1]\n",
    "        y = self.gumbel_softmax_sample(logits, temperature)\n",
    "        if hard:\n",
    "            k = tf.shape(logits)[-1]\n",
    "            y_hard = tf.cast(tf.one_hot(tf.argmax(y,1),k), y.dtype)\n",
    "            y_hard = tf.cast(tf.equal(y,tf.reduce_max(y,1,keep_dims=True)),y.dtype)\n",
    "            y = tf.stop_gradient(y_hard - y) + y\n",
    "        return y\n",
    "    \n",
    "    # Cross entropy loss\n",
    "    def ce_loss(self,y_t,y_p):\n",
    "        \n",
    "        y_hat_t = tf.reduce_mean(y_t,axis=0)\n",
    "        y_hat_p = tf.reduce_mean(y_p,axis=0)\n",
    "        \n",
    "        l2 = K.categorical_crossentropy(y_hat_t,y_hat_p)\n",
    "        return l2\n",
    "    \n",
    "    # Proportional controller loss\n",
    "    def ga_loss(self,state):\n",
    "        def loss(y_true, y_pred):\n",
    "\n",
    "            y_true = tf.reshape(y_true, [-1, 1], name='reshape_ytrue')\n",
    "\n",
    "            out_mu, out_pi = tf.split(y_pred, num_or_size_splits=[self.d,self.nk],axis=-1)\n",
    "\n",
    "            mus = tf.unstack(tf.reshape(out_mu,[-1,self.d,1]),axis=1)\n",
    "            st = tf.unstack(tf.reshape(state,[-1,self.d,1]),axis=1)\n",
    "            \n",
    "            #We fix uncertainty for this example, helps speed up convergence, as one less parameter to learn\n",
    "            out_sigma = tf.tile([1e-4,], tf.shape(out_mu)[0:1])\n",
    "                \n",
    "            gm = tfd.MultivariateNormalDiag(loc=tf.multiply(mus[0],st[0]) + tf.multiply(mus[1],st[1]), scale_diag=out_sigma)\n",
    "\n",
    "            loss = gm.log_prob(y_true) \n",
    "\n",
    "            return -tf.reduce_mean(loss,axis=-1)\n",
    "        return loss\n"
   ]
  },
  {
   "cell_type": "code",
   "execution_count": 4,
   "metadata": {},
   "outputs": [
    {
     "name": "stderr",
     "output_type": "stream",
     "text": [
      "WARNING: Logging before flag parsing goes to stderr.\n",
      "W0703 16:54:03.374845 140437986658112 deprecation_wrapper.py:119] From /home/mburke33/.local/lib/python3.6/site-packages/keras/backend/tensorflow_backend.py:74: The name tf.get_default_graph is deprecated. Please use tf.compat.v1.get_default_graph instead.\n",
      "\n",
      "W0703 16:54:03.416536 140437986658112 deprecation_wrapper.py:119] From /home/mburke33/.local/lib/python3.6/site-packages/keras/backend/tensorflow_backend.py:517: The name tf.placeholder is deprecated. Please use tf.compat.v1.placeholder instead.\n",
      "\n",
      "W0703 16:54:03.419729 140437986658112 deprecation_wrapper.py:119] From /home/mburke33/.local/lib/python3.6/site-packages/keras/backend/tensorflow_backend.py:4138: The name tf.random_uniform is deprecated. Please use tf.random.uniform instead.\n",
      "\n",
      "W0703 16:54:03.497482 140437986658112 deprecation_wrapper.py:119] From /home/mburke33/.local/lib/python3.6/site-packages/keras/optimizers.py:790: The name tf.train.Optimizer is deprecated. Please use tf.compat.v1.train.Optimizer instead.\n",
      "\n",
      "W0703 16:54:03.594648 140437986658112 deprecation_wrapper.py:119] From /home/mburke33/.local/lib/python3.6/site-packages/keras/backend/tensorflow_backend.py:3295: The name tf.log is deprecated. Please use tf.math.log instead.\n",
      "\n"
     ]
    },
    {
     "name": "stdout",
     "output_type": "stream",
     "text": [
      "__________________________________________________________________________________________________\n",
      "Layer (type)                    Output Shape         Param #     Connected to                     \n",
      "==================================================================================================\n",
      "input_1 (InputLayer)            (None, 2)            0                                            \n",
      "__________________________________________________________________________________________________\n",
      "dense_1 (Dense)                 (None, 16)           48          input_1[0][0]                    \n",
      "__________________________________________________________________________________________________\n",
      "dense_2 (Dense)                 (None, 16)           272         dense_1[0][0]                    \n",
      "__________________________________________________________________________________________________\n",
      "dense_3 (Dense)                 (None, 16)           272         dense_2[0][0]                    \n",
      "__________________________________________________________________________________________________\n",
      "dense_4 (Dense)                 (None, 3)            51          dense_3[0][0]                    \n",
      "__________________________________________________________________________________________________\n",
      "input_2 (InputLayer)            (None, 1)            0                                            \n",
      "__________________________________________________________________________________________________\n",
      "lambda_1 (Lambda)               (None, 3)            0           dense_4[0][0]                    \n",
      "                                                                 input_2[0][0]                    \n",
      "__________________________________________________________________________________________________\n",
      "model_2 (Model)                 (None, 2)            8           lambda_1[0][0]                   \n",
      "__________________________________________________________________________________________________\n",
      "concatenate_2 (Concatenate)     (None, 5)            0           model_2[1][0]                    \n",
      "                                                                 lambda_1[0][0]                   \n",
      "==================================================================================================\n",
      "Total params: 651\n",
      "Trainable params: 651\n",
      "Non-trainable params: 0\n",
      "__________________________________________________________________________________________________\n"
     ]
    }
   ],
   "source": [
    "model = SDN(nk=3,d=2)\n",
    "model.goal_pred.summary()"
   ]
  },
  {
   "cell_type": "code",
   "execution_count": 5,
   "metadata": {},
   "outputs": [],
   "source": [
    "class DataGenerator(Sequence):\n",
    "\n",
    "    def __init__(self, x, y, batch_size=32, shuffle=True):\n",
    "        \n",
    "        self.batch_size = batch_size\n",
    "        self.N = x.shape[0]\n",
    "        self.batch_num = 0\n",
    "        self.y = y\n",
    "        self.x = x\n",
    "        self.shuffle = shuffle\n",
    "        self.on_epoch_end()\n",
    "        \n",
    "    def __len__(self):\n",
    "        return int(np.floor(self.N / self.batch_size))\n",
    "\n",
    "    def __getitem__(self, index):\n",
    "        \n",
    "        indexes = self.indexes[index*self.batch_size:(index+1)*self.batch_size]\n",
    "\n",
    "        list_IDs_temp = [k for k in indexes]\n",
    "\n",
    "        X, y = self.__data_generation(list_IDs_temp)\n",
    "\n",
    "        return X, y\n",
    "\n",
    "    def on_epoch_end(self):\n",
    "        self.indexes = np.arange(self.N)\n",
    "        self.batch_num+=1\n",
    "        if self.shuffle == True:\n",
    "            np.random.shuffle(self.indexes)\n",
    "\n",
    "    def __data_generation(self, list_IDs_temp):\n",
    "\n",
    "        X = np.empty((self.batch_size, 2))\n",
    "        y = np.empty((self.batch_size), dtype=int)\n",
    "\n",
    "        for i,k in enumerate(list_IDs_temp):\n",
    "            X[i,] = self.x[k,:]\n",
    "\n",
    "            y[i] = self.y[k]\n",
    "        # temperature annealing\n",
    "        tau = max(10.0*np.exp(-0.025*self.batch_num),0.5)*np.ones((self.batch_size,))\n",
    "        # Assume each controller equally likely for regularisation\n",
    "        return [X,tau], [y,1.0/3*np.ones((self.batch_size,3))]"
   ]
  },
  {
   "cell_type": "code",
   "execution_count": 6,
   "metadata": {},
   "outputs": [],
   "source": [
    "# Load training data\n",
    "states = np.loadtxt('pendulum_grid.txt')"
   ]
  },
  {
   "cell_type": "code",
   "execution_count": 7,
   "metadata": {},
   "outputs": [],
   "source": [
    "# Plotting callback\n",
    "class run_cb(Callback):\n",
    "    \n",
    "    def on_epoch_end(self, batch, logs={}):\n",
    "        \n",
    "        th,v = np.meshgrid(np.linspace(-np.pi,np.pi,20),(np.linspace(-3,3,20)))\n",
    "        u = []\n",
    "        pi = []\n",
    "        for state_polar in np.vstack((th.ravel(),v.ravel())).T:\n",
    "            \n",
    "            gains,weights = model.goal_pred.predict([state_polar.reshape(1,2),np.array([0.5]).reshape(1,1)])\n",
    "            \n",
    "            weights = weights.ravel()\n",
    "            gains = gains.ravel()\n",
    "\n",
    "            action = gains[0]*state_polar[0] + gains[1]*state_polar[1]\n",
    "\n",
    "            u.append(action)\n",
    "            pi.append(np.argmax(weights))\n",
    "        plt.clf()\n",
    "        plt.subplot(1,2,1)\n",
    "        plt.cla()\n",
    "        plt.imshow(np.squeeze(np.array(u)).reshape(20,20),extent=(-np.pi,np.pi,-3,3))\n",
    "        plt.grid()\n",
    "        plt.ylabel('Pendulum speed')\n",
    "        plt.xlabel('Pendulum angle')\n",
    "        plt.title('Response')\n",
    "        plt.subplot(1,2,2)\n",
    "        plt.cla()\n",
    "        plt.imshow(np.squeeze(np.array(pi)).reshape(20,20),extent=(-np.pi,np.pi,-3,3))\n",
    "        plt.grid()\n",
    "        plt.ylabel('Pendulum speed')\n",
    "        plt.xlabel('Pendulum angle')\n",
    "        plt.title('Controller')\n",
    "        \n",
    "        \n",
    "        display.clear_output(wait=True)\n",
    "        display.display(plt.gcf())\n",
    "\n",
    "            "
   ]
  },
  {
   "cell_type": "code",
   "execution_count": 8,
   "metadata": {
    "scrolled": true
   },
   "outputs": [
    {
     "data": {
      "image/png": "[encoded data removed]",
      "text/plain": [
       "<Figure size 1080x360 with 2 Axes>"
      ]
     },
     "metadata": {},
     "output_type": "display_data"
    },
    {
     "data": {
      "text/plain": [
       "<keras.callbacks.History at 0x7fb9a26e0d68>"
      ]
     },
     "execution_count": 8,
     "metadata": {},
     "output_type": "execute_result"
    },
    {
     "data": {
      "image/png": "[encoded data removed]",
      "text/plain": [
       "<Figure size 1080x360 with 2 Axes>"
      ]
     },
     "metadata": {
      "needs_background": "light"
     },
     "output_type": "display_data"
    }
   ],
   "source": [
    "# Train model\n",
    "batch_size = 32\n",
    "train_gen = DataGenerator(states[0:2,:].T,states[2,:].T,batch_size=batch_size)#generator(states[0:2,:].T,states[2,:].T,batch_size=batch_size)\n",
    "plt.figure(figsize=(15,5))\n",
    "run = time.time()\n",
    "cb = TensorBoard(log_dir='./logs/run_%f'%run, batch_size=batch_size, write_graph=True)\n",
    "test = run_cb()\n",
    "model.goal_pred.fit_generator(train_gen,steps_per_epoch=states.shape[1]/batch_size, epochs=500,verbose=1,callbacks=[cb,test])"
   ]
  },
  {
   "cell_type": "markdown",
   "metadata": {},
   "source": [
    "Demonstrate on gym environment, identified control policy should balance the pendulum"
   ]
  },
  {
   "cell_type": "code",
   "execution_count": 9,
   "metadata": {},
   "outputs": [],
   "source": [
    "# Test controller\n",
    "import gym\n",
    "ENV_NAME = 'Pendulum-v0'\n",
    "env = gym.make(ENV_NAME)\n",
    "obs = env.reset() \n",
    "\n",
    "t = 0\n",
    "done = False\n",
    "while not done:\n",
    "\n",
    "    state_polar = np.zeros((2,1)) \n",
    "    state_polar[0] = np.arctan2(obs[1],obs[0])\n",
    "    state_polar[1] = obs[2]\n",
    "\n",
    "    gains,weights = model.goal_pred.predict([state_polar.reshape(1,2),np.array([0.5]).reshape(1,1)])\n",
    "    \n",
    "    weights = weights.ravel()\n",
    "    gains = gains.ravel()\n",
    "    \n",
    "    action = action = gains[0]*state_polar[0] + gains[1]*state_polar[1]\n",
    "    \n",
    "    obs,r,done, _ = env.step(action)\n",
    "    env.render()\n",
    "    t += 1\n",
    "\n",
    "    done = False\n",
    "\n",
    "    if t == 200:\n",
    "        done = True\n",
    "env.close()"
   ]
  },
  {
   "cell_type": "markdown",
   "metadata": {},
   "source": [
    "## Visualise inferred controller clusters\n",
    "\n",
    "Importantly, the inferred controller clustering shows that we have successfully identified the state-space regions corresponding to the three pendulum control laws. "
   ]
  },
  {
   "cell_type": "code",
   "execution_count": 10,
   "metadata": {},
   "outputs": [
    {
     "data": {
      "image/png": "[encoded data removed]",
      "text/plain": [
       "<Figure size 1080x360 with 5 Axes>"
      ]
     },
     "metadata": {
      "needs_background": "light"
     },
     "output_type": "display_data"
    }
   ],
   "source": [
    "# Plot state response\n",
    "import matplotlib\n",
    "matplotlib.rcParams['pdf.fonttype'] = 42\n",
    "matplotlib.rcParams['ps.fonttype'] = 42\n",
    "plt.figure(figsize=(15,5))\n",
    "th,v = np.meshgrid(np.linspace(-np.pi,np.pi,100),(np.linspace(-3,3,100)))\n",
    "u = []\n",
    "pi = []\n",
    "for state_polar in np.vstack((th.ravel(),v.ravel())).T:\n",
    "\n",
    "    gains,weights = model.goal_pred.predict([state_polar.reshape(1,2),np.array([0.5]).reshape(1,1)])\n",
    "    \n",
    "    weights = weights.ravel()\n",
    "    gains = gains.ravel()\n",
    "    \n",
    "    action = gains[0]*state_polar[0] + gains[1]*state_polar[1]\n",
    "    \n",
    "    u.append(action)\n",
    "    pi.append(np.argmax(weights))\n",
    "\n",
    "plt.subplot(1,3,1)\n",
    "plt.imshow(np.squeeze(np.array(u)).reshape(100,100),extent=(-np.pi,np.pi,-3,3))\n",
    "plt.grid()\n",
    "plt.ylabel('Pendulum speed')\n",
    "plt.xlabel('Pendulum angle')\n",
    "plt.title('SDN response')\n",
    "plt.colorbar()\n",
    "\n",
    "\n",
    "plt.subplot(1,3,2)\n",
    "plt.imshow(np.squeeze(np.array(pi)).reshape(100,100),extent=(-np.pi,np.pi,-3,3))\n",
    "plt.grid()\n",
    "plt.title('Controller clusters')\n",
    "plt.ylabel('Pendulum speed')\n",
    "plt.xlabel('Pendulum angle')\n",
    "\n",
    "plt.subplot(1,3,3)\n",
    "plt.imshow(states[2,:].reshape(100,100),extent=(-np.pi,np.pi,-3,3))\n",
    "plt.grid()\n",
    "plt.title('Training data')\n",
    "plt.ylabel('Pendulum speed')\n",
    "plt.xlabel('Pendulum angle')\n",
    "plt.colorbar()\n",
    "plt.show()"
   ]
  }
 ],
 "metadata": {
  "kernelspec": {
   "display_name": "Python 3",
   "language": "python",
   "name": "python3"
  },
  "language_info": {
   "codemirror_mode": {
    "name": "ipython",
    "version": 3
   },
   "file_extension": ".py",
   "mimetype": "text/x-python",
   "name": "python",
   "nbconvert_exporter": "python",
   "pygments_lexer": "ipython3",
   "version": "3.6.8"
  }
 },
 "nbformat": 4,
 "nbformat_minor": 2
}
